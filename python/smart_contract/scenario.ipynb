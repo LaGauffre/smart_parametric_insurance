{
 "cells": [
  {
   "cell_type": "code",
   "execution_count": 35,
   "id": "84501264",
   "metadata": {},
   "outputs": [],
   "source": [
    "import numpy as np\n",
    "import matplotlib.pyplot as plt\n",
    "import pandas as pd\n",
    "from model_points import theta_polynomial, get_MPs, compute_stat_MP, compute_stat_Sn, quantile_Sn, pmf_Sn, CF_approximation"
   ]
  },
  {
   "cell_type": "markdown",
   "id": "5b568700",
   "metadata": {},
   "source": [
    "# Interaction with the smart contract\n",
    "\n",
    "This notebook is a python check of the scenario of transactions submitted to the smart contract. \n",
    "\n",
    "We first define a couple of parameters\n"
   ]
  },
  {
   "cell_type": "code",
   "execution_count": 36,
   "id": "fe7f6154",
   "metadata": {},
   "outputs": [],
   "source": [
    "contract_owner_eth_address, investor_eth_address, policyholder_eth_address = \"0xE8e79B8B8c0481fa33a8E0fcA902ad5754BfE1C3\", \"0x2CF8ed1664616483c12Ef3113f6F62E68f1a810A\", \"0xd34a37613A382bA503f1599F514C9788dF3659C4\"\n",
    "contract_owner_balance, investor_balance, policyholder_balance = [0.482], [0.356], [0.364]\n",
    "# risk level parameter\n",
    "alpha_MCR, alpha_SCR = 0.85, 0.995\n",
    "alphas = [alpha_MCR, alpha_SCR]\n",
    "# safety margin parameter\n",
    "eta = 0.1\n",
    "n_MP = 5\n",
    "# surplus and balance processeses\n",
    "Xt, Bt = [0], [0]\n",
    "# Number of contracts, number of investors, investors' token holding, number of model points\n",
    "Nt, At, Yt, Mt = [0], [0], [0], [0]\n",
    "TotalSupply, rt = [0], [1]\n",
    "# mean, variance, skewness and kurtosis processes\n",
    "Mut, Vart, gammat_1, gammat_2 = [0], [0], [0], [0]\n",
    "# MCR and SCR processes\n",
    "MCRt, SCRt = [0], [0]\n",
    "MCRt_CF2, SCRt_CF2 = [0], [0]\n",
    "MCRt_CF3, SCRt_CF3 = [0], [0]\n",
    "# Initialize the portfolio\n",
    "portfolio = pd.DataFrame(columns=['contract_ID','S', 'T', 'station', 'Q_bar', 'l', 'theta'])\n"
   ]
  },
  {
   "cell_type": "code",
   "execution_count": 37,
   "id": "8842e5f6",
   "metadata": {},
   "outputs": [],
   "source": [
    "def add_contract(S, T, station, Q_bar, l):\n",
    "    theta = theta_polynomial(T, station)\n",
    "    portfolio.loc[len(portfolio)] = [len(portfolio)+1, S, T, station, Q_bar, l, theta]\n",
    "    MPs = get_MPs(portfolio)\n",
    "\n",
    "    # surplus and balance processeses\n",
    "    cp = theta * (1 + eta) * l\n",
    "    Xt.append(Xt[-1]), Bt.append(Bt[-1] + cp), At.append(At[-1]), TotalSupply.append(TotalSupply[-1])\n",
    "    Nt.append(Nt[-1]+1), Mt.append(len(MPs))\n",
    "    rt.append(rt[-1])\n",
    "\n",
    "    if(Mt[-1] < n_MP):\n",
    "        S_Zs, p_Zs = [d['S_Z'] for d in MPs], [d['p_Z'] for d in MPs]\n",
    "        stats_mat = np.array([compute_stat_MP(S_Z, p_Z) for S_Z, p_Z in zip(S_Zs, p_Zs)])\n",
    "        stats_Sn = compute_stat_Sn(stats_mat)\n",
    "        pmf_Sn_fft = pmf_Sn(S_Zs, p_Zs)\n",
    "\n",
    "        Q_mat = np.array([CF_approximation(stats_Sn, alpha) for alpha in alphas])\n",
    "        Q_Sn = np.array([quantile_Sn(pmf_Sn_fft, alpha) for alpha in alphas])\n",
    "        Q_mat[0,0] - stats_Sn[0] * (1 + eta), Q_mat[1,0] - stats_Sn[0] * (1 + eta)\n",
    "\n",
    "        Mut.append(stats_Sn[0]), Vart.append(stats_Sn[1]), gammat_1.append(stats_Sn[2]), gammat_2.append(stats_Sn[3])\n",
    "        \n",
    "        MCRt.append(portfolio.l.sum()), SCRt.append(portfolio.l.sum())\n",
    "        MCRt_CF2.append(portfolio.l.sum()), SCRt_CF2.append(portfolio.l.sum())\n",
    "        MCRt_CF3.append(portfolio.l.sum()), SCRt_CF3.append(portfolio.l.sum())\n",
    "    else:\n",
    "        S_Zs, p_Zs = [d['S_Z'] for d in MPs], [d['p_Z'] for d in MPs]\n",
    "        stats_mat = np.array([compute_stat_MP(S_Z, p_Z) for S_Z, p_Z in zip(S_Zs, p_Zs)])\n",
    "        stats_Sn = compute_stat_Sn(stats_mat)\n",
    "        pmf_Sn_fft = pmf_Sn(S_Zs, p_Zs)\n",
    "\n",
    "        Q_mat = np.array([CF_approximation(stats_Sn, alpha) for alpha in alphas])\n",
    "        Q_Sn = np.array([quantile_Sn(pmf_Sn_fft, alpha) for alpha in alphas])\n",
    "        Q_mat[0,0] - stats_Sn[0] * (1 + eta), Q_mat[1,0] - stats_Sn[0] * (1 + eta)\n",
    "\n",
    "        Mut.append(stats_Sn[0]), Vart.append(stats_Sn[1]), gammat_1.append(stats_Sn[2]), gammat_2.append(stats_Sn[3])\n",
    "\n",
    "        MCRt.append(Q_Sn[0]- stats_Sn[0] * (1 + eta)), SCRt.append(Q_Sn[1]- stats_Sn[0] * (1 + eta))\n",
    "        MCRt_CF2.append(Q_mat[0,0] - stats_Sn[0] * (1 + eta)), SCRt_CF2.append(Q_mat[1,0] - stats_Sn[0] * (1 + eta))\n",
    "        MCRt_CF3.append(Q_mat[0,1] - stats_Sn[0] * (1 + eta)), SCRt_CF3.append(Q_mat[1,1] - stats_Sn[0] * (1 + eta))\n",
    "    \n",
    "def remove_contract(contract_ID, Q_obs):\n",
    "    global portfolio\n",
    "    contract_details = portfolio.loc[portfolio['contract_ID'] == contract_ID, ['S', 'T', 'station', 'Q_bar', 'l', 'theta']].iloc[0]\n",
    "    S, T, station, Q_bar, l, theta = contract_details['S'], contract_details['T'], contract_details['station'], contract_details['Q_bar'], contract_details['l'], contract_details['theta']\n",
    "    cp = theta * (1 + eta) * l\n",
    "    if Q_obs < Q_bar:\n",
    "        Xt.append(Xt[-1] + cp), Bt.append(Bt[-1]), At.append(At[-1]), TotalSupply.append(TotalSupply[-1])\n",
    "    else:\n",
    "        Xt.append(Xt[-1] + cp - l), Bt.append(Bt[-1] - l), At.append(At[-1]), TotalSupply.append(TotalSupply[-1])\n",
    "    portfolio = portfolio[portfolio['contract_ID'] != contract_ID].reset_index(drop=True)\n",
    "    MPs = get_MPs(portfolio)\n",
    "    Nt.append(Nt[-1]-1), Mt.append(len(MPs))\n",
    "    rt.append(Xt[-1] / TotalSupply[-1])\n",
    "    if(Mt[-1] < n_MP):\n",
    "        S_Zs, p_Zs = [d['S_Z'] for d in MPs], [d['p_Z'] for d in MPs]\n",
    "        stats_mat = np.array([compute_stat_MP(S_Z, p_Z) for S_Z, p_Z in zip(S_Zs, p_Zs)])\n",
    "        stats_Sn = compute_stat_Sn(stats_mat)\n",
    "        pmf_Sn_fft = pmf_Sn(S_Zs, p_Zs)\n",
    "\n",
    "        Q_mat = np.array([CF_approximation(stats_Sn, alpha) for alpha in alphas])\n",
    "        Q_Sn = np.array([quantile_Sn(pmf_Sn_fft, alpha) for alpha in alphas])\n",
    "        Q_mat[0,0] - stats_Sn[0] * (1 + eta), Q_mat[1,0] - stats_Sn[0] * (1 + eta)\n",
    "\n",
    "        Mut.append(stats_Sn[0]), Vart.append(stats_Sn[1]), gammat_1.append(stats_Sn[2]), gammat_2.append(stats_Sn[3])\n",
    "        \n",
    "        MCRt.append(portfolio.l.sum()), SCRt.append(portfolio.l.sum())\n",
    "        MCRt_CF2.append(portfolio.l.sum()), SCRt_CF2.append(portfolio.l.sum())\n",
    "        MCRt_CF3.append(portfolio.l.sum()), SCRt_CF3.append(portfolio.l.sum())\n",
    "    else:\n",
    "        S_Zs, p_Zs = [d['S_Z'] for d in MPs], [d['p_Z'] for d in MPs]\n",
    "        stats_mat = np.array([compute_stat_MP(S_Z, p_Z) for S_Z, p_Z in zip(S_Zs, p_Zs)])\n",
    "        stats_Sn = compute_stat_Sn(stats_mat)\n",
    "        pmf_Sn_fft = pmf_Sn(S_Zs, p_Zs)\n",
    "\n",
    "        Q_mat = np.array([CF_approximation(stats_Sn, alpha) for alpha in alphas])\n",
    "        Q_Sn = np.array([quantile_Sn(pmf_Sn_fft, alpha) for alpha in alphas])\n",
    "        Q_mat[0,0] - stats_Sn[0] * (1 + eta), Q_mat[1,0] - stats_Sn[0] * (1 + eta)\n",
    "\n",
    "        Mut.append(stats_Sn[0]), Vart.append(stats_Sn[1]), gammat_1.append(stats_Sn[2]), gammat_2.append(stats_Sn[3])\n",
    "\n",
    "        MCRt.append(Q_Sn[0]- stats_Sn[0] * (1 + eta)), SCRt.append(Q_Sn[1]- stats_Sn[0] * (1 + eta))\n",
    "        MCRt_CF2.append(Q_mat[0,0] - stats_Sn[0] * (1 + eta)), SCRt_CF2.append(Q_mat[1,0] - stats_Sn[0] * (1 + eta))\n",
    "        MCRt_CF3.append(Q_mat[0,1] - stats_Sn[0] * (1 + eta)), SCRt_CF3.append(Q_mat[1,1] - stats_Sn[0] * (1 + eta))\n",
    "\n",
    "\n"
   ]
  },
  {
   "cell_type": "markdown",
   "id": "492fbc75",
   "metadata": {},
   "source": [
    "Nous définissons les évènements suivant:\n",
    "\n",
    "1. Investor contributes $x$ and receives $y = x \\cdot r_t$ protocol tokens"
   ]
  },
  {
   "cell_type": "code",
   "execution_count": 38,
   "id": "6165c992",
   "metadata": {},
   "outputs": [
    {
     "data": {
      "text/plain": [
       "(None, None)"
      ]
     },
     "execution_count": 38,
     "metadata": {},
     "output_type": "execute_result"
    }
   ],
   "source": [
    "x = 100\n",
    "y = rt[-1] * x\n",
    "Yt.append(Yt[-1] + y), Xt.append(Xt[-1] + x), Bt.append(Bt[-1] + x), At.append(At[-1] + 1), TotalSupply.append(TotalSupply[-1] + y)\n",
    "Nt.append(Nt[-1]), Mt.append(Mt[-1])\n",
    "Mut.append(Mut[-1]), Vart.append(Vart[-1]), gammat_1.append(gammat_1[-1]), gammat_2.append(gammat_2[-1])\n",
    "rt.append(rt[-1])\n",
    "MCRt.append(MCRt[-1]), SCRt.append(SCRt[-1])\n",
    "MCRt_CF2.append(MCRt_CF2[-1]), SCRt_CF2.append(SCRt_CF2[-1])\n",
    "MCRt_CF3.append(MCRt_CF3[-1]), SCRt_CF3.append(SCRt_CF3[-1])\n"
   ]
  },
  {
   "cell_type": "markdown",
   "id": "782c9235",
   "metadata": {},
   "source": [
    "2. Policyholder underwrite contract #1 (1, 60, \"MARSEILLE-MARIGNANE\", 5, 10)"
   ]
  },
  {
   "cell_type": "code",
   "execution_count": 39,
   "id": "09a6b84f",
   "metadata": {},
   "outputs": [
    {
     "name": "stdout",
     "output_type": "stream",
     "text": [
      "10 10 0.8069266858032 2.7236255582900277 100.88761935438352\n"
     ]
    }
   ],
   "source": [
    "S, T, station, Q_bar, l = 1, 60, \"MARSEILLE-MARIGNANE\", 5, 10\n",
    "add_contract(S, T, station, Q_bar, l)\n",
    "print(SCRt_CF3[-1], MCRt_CF3[-1],Mut[-1], np.sqrt(Vart[-1]), Bt[-1])"
   ]
  },
  {
   "cell_type": "markdown",
   "id": "96accc55",
   "metadata": {},
   "source": [
    "3. Policyholder underwrite contract #2 (2, 60, \"STRASBOURG-ENTZHEIM\", 5, 10)"
   ]
  },
  {
   "cell_type": "code",
   "execution_count": 40,
   "id": "bcbdbb40",
   "metadata": {},
   "outputs": [
    {
     "name": "stdout",
     "output_type": "stream",
     "text": [
      "20 20 1.71787008052176 3.9620389019512277 101.88965708857393\n"
     ]
    }
   ],
   "source": [
    "S, T, station, Q_bar, l = 2, 60, \"STRASBOURG-ENTZHEIM\", 5, 10\n",
    "add_contract(S, T, station, Q_bar, l)\n",
    "print(SCRt_CF3[-1], MCRt_CF3[-1],Mut[-1], np.sqrt(Vart[-1]), Bt[-1])"
   ]
  },
  {
   "cell_type": "markdown",
   "id": "6e78078d",
   "metadata": {},
   "source": [
    "4. Policyholder underwrite contract #3 (3, 45, \"MARSEILLE-MARIGNANE\", 5, 20)"
   ]
  },
  {
   "cell_type": "code",
   "execution_count": 41,
   "id": "06e0d0e2",
   "metadata": {},
   "outputs": [
    {
     "name": "stdout",
     "output_type": "stream",
     "text": [
      "40 40 3.398488634852535 6.818038179860063 103.73833749833778\n"
     ]
    }
   ],
   "source": [
    "S, T, station, Q_bar, l = 3, 45, \"MARSEILLE-MARIGNANE\", 5, 20\n",
    "add_contract(S, T, station, Q_bar, l)\n",
    "print(SCRt_CF3[-1], MCRt_CF3[-1],Mut[-1], np.sqrt(Vart[-1]), Bt[-1])"
   ]
  },
  {
   "cell_type": "markdown",
   "id": "65c17c76",
   "metadata": {},
   "source": [
    "5. Policyholder underwrite contract #4 (4, 80 , \"STRASBOURG-ENTZHEIM\", 5, 5)"
   ]
  },
  {
   "cell_type": "code",
   "execution_count": 42,
   "id": "c284864d",
   "metadata": {},
   "outputs": [
    {
     "name": "stdout",
     "output_type": "stream",
     "text": [
      "45 45 3.9190026921898147 6.986936383339282 104.31090296140879\n"
     ]
    }
   ],
   "source": [
    "S, T, station, Q_bar, l = 4, 80, \"STRASBOURG-ENTZHEIM\", 5, 5\n",
    "add_contract(S, T, station, Q_bar, l)\n",
    "print(SCRt_CF3[-1], MCRt_CF3[-1],Mut[-1], np.sqrt(Vart[-1]), Bt[-1])"
   ]
  },
  {
   "cell_type": "markdown",
   "id": "1c3cbc3b",
   "metadata": {},
   "source": [
    "6. Policyholder underwrite contract #5 (5, 102, \"STRASBOURG-ENTZHEIM\", 5, 15)"
   ]
  },
  {
   "cell_type": "code",
   "execution_count": 43,
   "id": "7d8b8608",
   "metadata": {},
   "outputs": [
    {
     "name": "stdout",
     "output_type": "stream",
     "text": [
      "33.29350863099696 8.405551243812331 5.703081148761343 8.508555749021129 106.27338926363747\n"
     ]
    }
   ],
   "source": [
    "S, T, station, Q_bar, l = 5, 102, \"STRASBOURG-ENTZHEIM\", 5, 15\n",
    "add_contract(S, T, station, Q_bar, l)\n",
    "print(SCRt_CF3[-1], MCRt_CF3[-1],Mut[-1], np.sqrt(Vart[-1]), Bt[-1])"
   ]
  },
  {
   "cell_type": "markdown",
   "id": "40f46930",
   "metadata": {},
   "source": [
    "7. Policyholder underwrite contract #6 (6, 206, \"STRASBOURG-ENTZHEIM\", 5, 5)"
   ]
  },
  {
   "cell_type": "code",
   "execution_count": 44,
   "id": "4225ee8b",
   "metadata": {},
   "outputs": [
    {
     "name": "stdout",
     "output_type": "stream",
     "text": [
      "34.18525141500301 8.983211783260714 7.179258364948983 9.218361780841832 107.89718420144388\n"
     ]
    }
   ],
   "source": [
    "S, T, station, Q_bar, l = 6, 206, \"STRASBOURG-ENTZHEIM\", 5, 10\n",
    "add_contract(S, T, station, Q_bar, l)\n",
    "print(SCRt_CF3[-1], MCRt_CF3[-1],Mut[-1], np.sqrt(Vart[-1]), Bt[-1])"
   ]
  },
  {
   "cell_type": "markdown",
   "id": "ceef047d",
   "metadata": {},
   "source": [
    "8. Policyholder underwrites contract #7 (7, 206, \"STRASBOURG-ENTZHEIM\", 5, 10)"
   ]
  },
  {
   "cell_type": "code",
   "execution_count": 45,
   "id": "b02dde4f",
   "metadata": {},
   "outputs": [
    {
     "name": "stdout",
     "output_type": "stream",
     "text": [
      "36.43702270202523 9.758983121548946 7.917346973042803 10.035264578367704 108.70908167034708\n"
     ]
    }
   ],
   "source": [
    "S, T, station, Q_bar, l = 7, 206, \"STRASBOURG-ENTZHEIM\", 5, 5\n",
    "add_contract(S, T, station, Q_bar, l)\n",
    "print(SCRt_CF3[-1], MCRt_CF3[-1],Mut[-1], np.sqrt(Vart[-1]), Bt[-1])"
   ]
  },
  {
   "cell_type": "markdown",
   "id": "c87d4a95",
   "metadata": {},
   "source": [
    "9. Policyholder underwrites contract #8 (8, 300, \"MARSEILLE-MARIGNANE\", 5, 15)"
   ]
  },
  {
   "cell_type": "code",
   "execution_count": 46,
   "id": "fe5bfae2",
   "metadata": {},
   "outputs": [
    {
     "name": "stdout",
     "output_type": "stream",
     "text": [
      "38.95392952359113 10.70696259827682 9.641844393542804 11.11755841504916 110.60602883289708\n"
     ]
    }
   ],
   "source": [
    "S, T, station, Q_bar, l = 8, 300, \"MARSEILLE-MARIGNANE\", 5, 15\n",
    "add_contract(S, T, station, Q_bar, l)\n",
    "print(SCRt_CF3[-1], MCRt_CF3[-1],Mut[-1], np.sqrt(Vart[-1]), Bt[-1])"
   ]
  },
  {
   "cell_type": "markdown",
   "id": "fef23381",
   "metadata": {},
   "source": [
    "10. Policyholder underwrites contract #9 (9, 282, \"STRASBOURG-ENTZHEIM\", 5, 5)"
   ]
  },
  {
   "cell_type": "code",
   "execution_count": 47,
   "id": "ecc169a0",
   "metadata": {},
   "outputs": [
    {
     "name": "stdout",
     "output_type": "stream",
     "text": [
      "39.033515304455385 10.763900590869971 10.196578261559992 11.227913643584502 111.21623608771598\n"
     ]
    }
   ],
   "source": [
    "S, T, station, Q_bar, l = 9, 282, \"STRASBOURG-ENTZHEIM\", 5, 5\n",
    "add_contract(S, T, station, Q_bar, l)\n",
    "print(SCRt_CF3[-1], MCRt_CF3[-1],Mut[-1], np.sqrt(Vart[-1]), Bt[-1])"
   ]
  },
  {
   "cell_type": "markdown",
   "id": "8873b7cc",
   "metadata": {},
   "source": [
    "11. Policyholder underwrites contract #10 (10, 180, \"MARSEILLE-MARIGNANE\", 5, 20)"
   ]
  },
  {
   "cell_type": "code",
   "execution_count": 48,
   "id": "2539c5f0",
   "metadata": {},
   "outputs": [
    {
     "name": "stdout",
     "output_type": "stream",
     "text": [
      "41.65250424464886 11.477102707115813 11.133819558158391 11.997185064493653 112.24720151397422\n"
     ]
    }
   ],
   "source": [
    "S, T, station, Q_bar, l = 10, 180, \"MARSEILLE-MARIGNANE\", 5, 20\n",
    "add_contract(S, T, station, Q_bar, l)\n",
    "print(SCRt_CF3[-1], MCRt_CF3[-1],Mut[-1], np.sqrt(Vart[-1]), Bt[-1])"
   ]
  },
  {
   "cell_type": "markdown",
   "id": "61ef123a",
   "metadata": {},
   "source": [
    "12. Settle contract #3 with $Q_{obs} = 0$"
   ]
  },
  {
   "cell_type": "code",
   "execution_count": 49,
   "id": "ff11e96a",
   "metadata": {},
   "outputs": [
    {
     "name": "stdout",
     "output_type": "stream",
     "text": [
      "101.84868040976386 37.292833621102744 10.221881637178864 9.453201003827616 10.636943034079618 112.24720151397422\n"
     ]
    }
   ],
   "source": [
    "remove_contract(3, 0)\n",
    "print(Xt[-1], SCRt_CF3[-1], MCRt_CF3[-1],Mut[-1], np.sqrt(Vart[-1]), Bt[-1])"
   ]
  },
  {
   "cell_type": "markdown",
   "id": "4daa10d6",
   "metadata": {},
   "source": [
    "13. Investor burns 35 tokens"
   ]
  },
  {
   "cell_type": "code",
   "execution_count": 50,
   "id": "f91e1179",
   "metadata": {},
   "outputs": [
    {
     "name": "stdout",
     "output_type": "stream",
     "text": [
      "67.48397400494265 37.292833621102744 10.221881637178864 1.0184868040976385\n"
     ]
    }
   ],
   "source": [
    "y = 35\n",
    "x = y / rt[-1] \n",
    "Yt.append(Yt[-1] - y), Xt.append(Xt[-1] - x), Bt.append(Bt[-1] - x), At.append(At[-1]), TotalSupply.append(TotalSupply[-1] - y)\n",
    "Nt.append(Nt[-1]), Mt.append(Mt[-1])\n",
    "Mut.append(Mut[-1]), Vart.append(Vart[-1]), gammat_1.append(gammat_1[-1]), gammat_2.append(gammat_2[-1])\n",
    "rt.append(rt[-1])\n",
    "MCRt.append(MCRt[-1]), SCRt.append(SCRt[-1])\n",
    "MCRt_CF2.append(MCRt_CF2[-1]), SCRt_CF2.append(SCRt_CF2[-1])\n",
    "MCRt_CF3.append(MCRt_CF3[-1]), SCRt_CF3.append(SCRt_CF3[-1])\n",
    "print(Xt[-1], SCRt_CF3[-1], MCRt_CF3[-1], rt[-1])"
   ]
  },
  {
   "cell_type": "markdown",
   "id": "84156c8f",
   "metadata": {},
   "source": [
    "14. Settle contract # 1, 2, 4, 5, 10"
   ]
  },
  {
   "cell_type": "code",
   "execution_count": 34,
   "id": "81bb2f00",
   "metadata": {},
   "outputs": [
    {
     "name": "stdout",
     "output_type": "stream",
     "text": [
      "58.37159335932617 36.66803718345647 9.937784755422646 0.8980245132204026\n",
      "49.373631093516586 35.98697725754467 9.606857332878624 0.7595943245156398\n",
      "44.946196556587594 35.919658875611205 9.538223674262346 0.6914799470244245\n",
      "46.90868285881628 55 55 0.7216720439817889\n"
     ]
    },
    {
     "data": {
      "text/html": [
       "<div>\n",
       "<style scoped>\n",
       "    .dataframe tbody tr th:only-of-type {\n",
       "        vertical-align: middle;\n",
       "    }\n",
       "\n",
       "    .dataframe tbody tr th {\n",
       "        vertical-align: top;\n",
       "    }\n",
       "\n",
       "    .dataframe thead th {\n",
       "        text-align: right;\n",
       "    }\n",
       "</style>\n",
       "<table border=\"1\" class=\"dataframe\">\n",
       "  <thead>\n",
       "    <tr style=\"text-align: right;\">\n",
       "      <th></th>\n",
       "      <th>contract_ID</th>\n",
       "      <th>S</th>\n",
       "      <th>T</th>\n",
       "      <th>station</th>\n",
       "      <th>Q_bar</th>\n",
       "      <th>l</th>\n",
       "      <th>theta</th>\n",
       "    </tr>\n",
       "  </thead>\n",
       "  <tbody>\n",
       "    <tr>\n",
       "      <th>0</th>\n",
       "      <td>6</td>\n",
       "      <td>6</td>\n",
       "      <td>206</td>\n",
       "      <td>STRASBOURG-ENTZHEIM</td>\n",
       "      <td>5</td>\n",
       "      <td>10</td>\n",
       "      <td>0.147618</td>\n",
       "    </tr>\n",
       "    <tr>\n",
       "      <th>1</th>\n",
       "      <td>7</td>\n",
       "      <td>7</td>\n",
       "      <td>206</td>\n",
       "      <td>STRASBOURG-ENTZHEIM</td>\n",
       "      <td>5</td>\n",
       "      <td>5</td>\n",
       "      <td>0.147618</td>\n",
       "    </tr>\n",
       "    <tr>\n",
       "      <th>2</th>\n",
       "      <td>8</td>\n",
       "      <td>8</td>\n",
       "      <td>300</td>\n",
       "      <td>MARSEILLE-MARIGNANE</td>\n",
       "      <td>5</td>\n",
       "      <td>15</td>\n",
       "      <td>0.114966</td>\n",
       "    </tr>\n",
       "    <tr>\n",
       "      <th>3</th>\n",
       "      <td>9</td>\n",
       "      <td>9</td>\n",
       "      <td>282</td>\n",
       "      <td>STRASBOURG-ENTZHEIM</td>\n",
       "      <td>5</td>\n",
       "      <td>5</td>\n",
       "      <td>0.110947</td>\n",
       "    </tr>\n",
       "    <tr>\n",
       "      <th>4</th>\n",
       "      <td>10</td>\n",
       "      <td>10</td>\n",
       "      <td>180</td>\n",
       "      <td>MARSEILLE-MARIGNANE</td>\n",
       "      <td>5</td>\n",
       "      <td>20</td>\n",
       "      <td>0.046862</td>\n",
       "    </tr>\n",
       "  </tbody>\n",
       "</table>\n",
       "</div>"
      ],
      "text/plain": [
       "   contract_ID   S    T              station  Q_bar   l     theta\n",
       "0            6   6  206  STRASBOURG-ENTZHEIM      5  10  0.147618\n",
       "1            7   7  206  STRASBOURG-ENTZHEIM      5   5  0.147618\n",
       "2            8   8  300  MARSEILLE-MARIGNANE      5  15  0.114966\n",
       "3            9   9  282  STRASBOURG-ENTZHEIM      5   5  0.110947\n",
       "4           10  10  180  MARSEILLE-MARIGNANE      5  20  0.046862"
      ]
     },
     "execution_count": 34,
     "metadata": {},
     "output_type": "execute_result"
    }
   ],
   "source": [
    "remove_contract(1, 6)\n",
    "print(Xt[-1], SCRt_CF3[-1], MCRt_CF3[-1], rt[-1])\n",
    "remove_contract(2, 6)\n",
    "print(Xt[-1], SCRt_CF3[-1], MCRt_CF3[-1], rt[-1])\n",
    "remove_contract(4, 6)\n",
    "print(Xt[-1], SCRt_CF3[-1], MCRt_CF3[-1], rt[-1])\n",
    "remove_contract(5, 0)\n",
    "print(Xt[-1], SCRt_CF3[-1], MCRt_CF3[-1], rt[-1])\n",
    "portfolio\n",
    "\n"
   ]
  },
  {
   "cell_type": "code",
   "execution_count": null,
   "id": "46196e80",
   "metadata": {},
   "outputs": [],
   "source": []
  },
  {
   "cell_type": "code",
   "execution_count": null,
   "id": "fc8887f3",
   "metadata": {},
   "outputs": [],
   "source": []
  }
 ],
 "metadata": {
  "kernelspec": {
   "display_name": "base",
   "language": "python",
   "name": "python3"
  },
  "language_info": {
   "codemirror_mode": {
    "name": "ipython",
    "version": 3
   },
   "file_extension": ".py",
   "mimetype": "text/x-python",
   "name": "python",
   "nbconvert_exporter": "python",
   "pygments_lexer": "ipython3",
   "version": "3.9.13"
  }
 },
 "nbformat": 4,
 "nbformat_minor": 5
}
