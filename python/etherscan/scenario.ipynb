{
 "cells": [
  {
   "cell_type": "code",
   "execution_count": 2,
   "metadata": {},
   "outputs": [],
   "source": [
    "import numpy as np\n",
    "import matplotlib.pyplot as plt\n",
    "import pandas as pd \n",
    "import scipy.stats as st\n",
    "from smart_contract import *"
   ]
  },
  {
   "cell_type": "code",
   "execution_count": 3,
   "metadata": {},
   "outputs": [],
   "source": [
    "# ETH balance\n",
    "owner, SP, policyholder, contract = [0.4366], [0.2], [0.21], [0]\n",
    "# Smart Contract variable\n",
    "totalSupply, rt, sn2, mu, SCR, MCR, Xt, eta1, eta2, qAlphaSCR, qAlphaMCR, Nt = [0], [1], [0], [0], [0], [0], [0], 0.1, 0.05, st.norm.ppf(0.995), st.norm.ppf(0.85), 0\n",
    "eta=eta1 + eta2\n",
    "Yt = {}\n"
   ]
  },
  {
   "cell_type": "markdown",
   "metadata": {},
   "source": [
    "Event:\n",
    " - Contract owner invest x1 = ETH0.08 \n",
    " - SP invest x2 = ETH0.1"
   ]
  },
  {
   "cell_type": "code",
   "execution_count": 4,
   "metadata": {},
   "outputs": [
    {
     "data": {
      "text/plain": [
       "(0.18, {'owner': [0.08], 'SP': [0.1]}, 0.18)"
      ]
     },
     "execution_count": 4,
     "metadata": {},
     "output_type": "execute_result"
    }
   ],
   "source": [
    "x1 = 0.08\n",
    "owner.append(owner[-1] - x1)\n",
    "contract.append(contract[-1] + x1)\n",
    "Xt.append(Xt[-1] + x1)\n",
    "y1 = x1 / rt[-1]\n",
    "Yt[\"owner\"] = [y1]\n",
    "totalSupply.append(totalSupply[-1] + y1)\n",
    "\n",
    "x2 = 0.1\n",
    "SP.append(SP[-1] - x2)\n",
    "contract.append(contract[-1] + x2)\n",
    "Xt.append(Xt[-1] + x2)\n",
    "y2 = x2 / rt[-1]\n",
    "Yt[\"SP\"] = [y2]\n",
    "totalSupply.append(totalSupply[-1] + y2)\n",
    "\n",
    "\n",
    "Xt[-1], Yt, totalSupply[-1]\n"
   ]
  },
  {
   "cell_type": "markdown",
   "metadata": {},
   "source": [
    "Event:\n",
    "- Underwrite (\"rain\"; 0.06)\n",
    "- Underwrite (\"hail\", 0.01)"
   ]
  },
  {
   "cell_type": "code",
   "execution_count": 5,
   "metadata": {},
   "outputs": [
    {
     "name": "stdout",
     "output_type": "stream",
     "text": [
      "0.06321492818983102 0.021582429052397788 0.22943159999999999 0.18 0.18214919999999998 0.9882008814751864\n",
      "0.06331281011317799 0.021593575612694316 0.22979385 0.18 0.18216513805499998 0.9881144214633083\n"
     ]
    }
   ],
   "source": [
    "PTF = []\n",
    "event1 = \"rain\"\n",
    "l1, p1 = 0.06, get_random_number(event1) \n",
    "r1 = (1 + eta1) * p1 * l1\n",
    "cp1 = (1 + eta) * p1 * l1\n",
    "policy1 = InsuranceContract(\n",
    "    customer=\"policyholder\",\n",
    "    event_description=b\"rain\",\n",
    "    l=l1,\n",
    "    p=p1,\n",
    "    eta=eta1 + eta2,\n",
    "    refund=r1,\n",
    "    status=0\n",
    ")\n",
    "PTF.append(policy1)\n",
    "contract.append(contract[-1] + cp1)\n",
    "Yt[\"policyholder\"] = [0]\n",
    "Yt[\"policyholder\"] = [Yt[\"policyholder\"][-1] + eta2 * p1 * l1 / rt[-1]]  \n",
    "sn2.append(sn2[-1] + (l1 ** 2) * p1 * (1 - p1)), mu.append(mu[-1] + p1 * l1 * eta) \n",
    "SCR.append(np.sqrt(sn2[-1]) * qAlphaSCR - mu[-1]), MCR.append(np.sqrt(sn2[-1]) * qAlphaMCR - mu[-1])\n",
    "policyholder.append(policyholder[-1] - cp1)\n",
    "totalSupply.append(totalSupply[-1] + Yt[\"policyholder\"][-1])\n",
    "rt.append(Xt[-1] / totalSupply[-1])\n",
    "\n",
    "print(SCR[-1], MCR[-1], contract[-1], Xt[-1], totalSupply[-1], rt[-1])\n",
    "\n",
    "event2 = \"hail\"\n",
    "l2, p2 = 0.01, get_random_number(event2) \n",
    "r2 = (1 + eta2) * p2 * l2\n",
    "cp2 = (1 + eta) * p2 * l2\n",
    "policy2 = InsuranceContract(\n",
    "    customer=\"policyholder\",\n",
    "    event_description=b\"hail\",\n",
    "    l=l2,\n",
    "    p=p2,\n",
    "    eta=eta1 + eta2,\n",
    "    refund=r2,\n",
    "    status=0\n",
    ")\n",
    "\n",
    "PTF.append(policy2)\n",
    "contract.append(contract[-1] + cp2)\n",
    "Yt[\"policyholder\"].append(Yt[\"policyholder\"][-1] + eta2 * p2 * l2 / rt[-1])\n",
    "sn2.append(sn2[-1] + (l2 ** 2) * p2 * (1 - p2)), mu.append(mu[-1] + p2 * l2 * eta) \n",
    "SCR.append(np.sqrt(sn2[-1]) * qAlphaSCR - mu[-1]), MCR.append(np.sqrt(sn2[-1]) * qAlphaMCR - mu[-1])\n",
    "policyholder.append(policyholder[-1] - cp2)\n",
    "totalSupply.append(totalSupply[-1] + eta2 * p2 * l2 / rt[-1])\n",
    "rt.append(Xt[-1] / totalSupply[-1])\n",
    "\n",
    "print(SCR[-1], MCR[-1], contract[-1], Xt[-1], totalSupply[-1], rt[-1])"
   ]
  },
  {
   "cell_type": "markdown",
   "metadata": {},
   "source": [
    "Event:\n",
    " - Parameter change eta1 = 0.025 et eta2 = 0.025\n",
    " - underwrite(\"snow, 0.1\")\n"
   ]
  },
  {
   "cell_type": "code",
   "execution_count": 6,
   "metadata": {},
   "outputs": [
    {
     "name": "stdout",
     "output_type": "stream",
     "text": [
      "0.13709083390200916 0.04968746228867339 0.18 0.28573785 0.18351316007660698 0.9808560864237724\n"
     ]
    }
   ],
   "source": [
    "eta1, eta2 = 0.025, 0.025\n",
    "eta = eta1 + eta2\n",
    "\n",
    "event3 = \"snow\"\n",
    "l3, p3 = 0.1, get_random_number(event3) \n",
    "r3 = (1 + eta2) * p3 * l3\n",
    "cp3 = (1 + eta) * p3 * l3\n",
    "policy3 = InsuranceContract(\n",
    "    customer=\"policyholder\",\n",
    "    event_description=b\"snow\",\n",
    "    l=l3,\n",
    "    p=p3,\n",
    "    eta=eta1 + eta2,\n",
    "    refund=r3,\n",
    "    status=0\n",
    ")\n",
    "PTF.append(policy3)\n",
    "contract.append(contract[-1] + cp3)\n",
    "Yt[\"policyholder\"].append(Yt[\"policyholder\"][-1] + eta2 * p3 * l3 / rt[-1])\n",
    "sn2.append(sn2[-1] + (l3 ** 2) * p3 * (1 - p3)), mu.append(mu[-1] + p3 * l3 * eta) \n",
    "SCR.append(np.sqrt(sn2[-1]) * qAlphaSCR - mu[-1]), MCR.append(np.sqrt(sn2[-1]) * qAlphaMCR - mu[-1])\n",
    "policyholder.append(policyholder[-1] - cp3)\n",
    "totalSupply.append(totalSupply[-1] + eta2 * p3 * l3 / rt[-1])\n",
    "rt.append(Xt[-1] / totalSupply[-1])\n",
    "\n",
    "\n",
    "print(SCR[-1], MCR[-1], Xt[-1], contract[-1], totalSupply[-1], rt[-1])\n"
   ]
  },
  {
   "cell_type": "markdown",
   "metadata": {},
   "source": [
    "Event:\n",
    "- Settle ('hail', 'hail1' ,0.01) => false\n",
    "- owner withdraw 0.01"
   ]
  },
  {
   "cell_type": "code",
   "execution_count": 7,
   "metadata": {},
   "outputs": [
    {
     "name": "stdout",
     "output_type": "stream",
     "text": [
      "0.13706886540068072 0.049706860922183904 0.28573785 0.18036225 0.18351316007660698 0.9828300592977003\n",
      "0.275909549407023 0.170533949407023 0.17351316007660697 0.13706886540068072 [0.4366, 0.3566, 0.366428300592977]\n"
     ]
    }
   ],
   "source": [
    "PTF[1].status = 2\n",
    "Xt.append(Xt[-1] + cp2)\n",
    "rt.append(Xt[-1] / totalSupply[-1])\n",
    "sn2.append(sn2[-1] - (l2 ** 2) * p2 * (1 - p2)), mu.append(mu[-1] - p2 * l2 * PTF[1].eta) \n",
    "SCR.append(np.sqrt(sn2[-1]) * qAlphaSCR - mu[-1]), MCR.append(np.sqrt(sn2[-1]) * qAlphaMCR - mu[-1])\n",
    "\n",
    "print(SCR[-1], MCR[-1], contract[-1], Xt[-1], totalSupply[-1], rt[-1])\n",
    "\n",
    "y3 = 0.01\n",
    "x3 = y3 * rt[-1]\n",
    "owner.append(owner[-1] + x3)\n",
    "contract.append(contract[-1] - x3)\n",
    "Xt.append(Xt[-1] - x3)\n",
    "Yt[\"owner\"].append(Yt[\"owner\"][-1] - y3)\n",
    "totalSupply.append(totalSupply[-1] - y3)\n",
    "\n",
    "print( contract[-1], Xt[-1], totalSupply[-1], SCR[-1], owner)"
   ]
  },
  {
   "cell_type": "markdown",
   "metadata": {},
   "source": [
    "Event:\n",
    "- settle (snow, 0.1) =>  snow2 => true\n",
    "- underwrite(\"sun\", 0.08)"
   ]
  },
  {
   "cell_type": "code",
   "execution_count": 8,
   "metadata": {},
   "outputs": [
    {
     "name": "stdout",
     "output_type": "stream",
     "text": [
      "0.06321492818983103 0.02158242905239779 0.175909549407023 0.12647794940702298\n",
      "0.11511973698502277 0.04146615380265091 0.211088749407023 0.12647794940702298\n"
     ]
    }
   ],
   "source": [
    "PTF[2].status = 1\n",
    "Xt.append(Xt[-1] + cp3 - l3)\n",
    "rt.append(Xt[-1] / totalSupply[-1])\n",
    "sn2.append(sn2[-1] - (l3 ** 2) * p3 * (1 - p3)), mu.append(mu[-1] - p3 * l3 * PTF[2].eta) \n",
    "SCR.append(np.sqrt(sn2[-1]) * qAlphaSCR - mu[-1]), MCR.append(np.sqrt(sn2[-1]) * qAlphaMCR - mu[-1])\n",
    "policyholder.append(policyholder[-1] + l3)\n",
    "contract.append(contract[-1] - l3)\n",
    "\n",
    "print(SCR[-1], MCR[-1], contract[-1], Xt[-1])\n",
    "\n",
    "event4 = \"sun\"\n",
    "l4, p4 = 0.08, get_random_number(event4) \n",
    "r4 = (1 + eta2) * p4 * l4\n",
    "cp4 = (1 + eta) * p4 * l4\n",
    "policy4 = InsuranceContract(\n",
    "    customer=\"policyholder\",\n",
    "    event_description=b\"sun\",\n",
    "    l=l4,\n",
    "    p=p4,\n",
    "    eta=eta1 + eta2,\n",
    "    refund=r4,\n",
    "    status=0\n",
    ")\n",
    "PTF.append(policy4)\n",
    "contract.append(contract[-1] + cp4)\n",
    "Yt[\"policyholder\"].append(Yt[\"policyholder\"][-1] + eta2 * p4 * l4 / rt[-1])\n",
    "sn2.append(sn2[-1] + (l4 ** 2) * p4 * (1 - p4)), mu.append(mu[-1] + p4 * l4 * eta) \n",
    "SCR.append(np.sqrt(sn2[-1]) * qAlphaSCR - mu[-1]), MCR.append(np.sqrt(sn2[-1]) * qAlphaMCR - mu[-1])\n",
    "policyholder.append(policyholder[-1] - cp4)\n",
    "totalSupply.append(totalSupply[-1] + eta2 * p4 * l4 / rt[-1])\n",
    "rt.append(Xt[-1] / totalSupply[-1])\n",
    "\n",
    "print(SCR[-1], MCR[-1], contract[-1], Xt[-1])\n"
   ]
  },
  {
   "cell_type": "markdown",
   "metadata": {},
   "source": [
    "Event:\n",
    "- Investor withdraw as much as possible\n",
    "- Change parameter MCR\n",
    "- settle (\"sun\", 0.08) => \"sun1\" => True"
   ]
  },
  {
   "cell_type": "code",
   "execution_count": 9,
   "metadata": {},
   "outputs": [
    {
     "name": "stdout",
     "output_type": "stream",
     "text": [
      "0.01568535032865742 0.011358212422000205\n",
      "0.1997305369850228 0.11511973698502277 0.15897690034881357 0.724128705066188 0.11511973698502277\n",
      "2.17009037758456\n",
      "0.09570684556379032 0.11511973698502277\n",
      "0.06321492818983103 0.05224184106454666 0.1197305369850228 0.07029893698502278 [0.2, 0.1, 0.11135821242200021]\n"
     ]
    }
   ],
   "source": [
    "y4 = (Xt[-1] - SCR[-1]) / rt[-1]\n",
    "\n",
    "x4 = y4 * rt[-1]\n",
    "print(y4, x4)\n",
    "SP.append(SP[-1] + x4)\n",
    "contract.append(contract[-1] - x4)\n",
    "Xt.append(Xt[-1] - x4)\n",
    "Yt[\"SP\"].append(Yt[\"SP\"][-1] - y4)\n",
    "totalSupply.append(totalSupply[-1] - y4)\n",
    "print(contract[-1], Xt[-1], totalSupply[-1], rt[-1], SCR[-1])\n",
    "\n",
    "\n",
    "\n",
    "qAlphaMCR = st.norm.ppf(0.985)\n",
    "print(qAlphaMCR)\n",
    "MCR.append(np.sqrt(sn2[-1]) * qAlphaMCR - mu[-1])\n",
    "print(MCR[-1], Xt[-1])\n",
    "\n",
    "\n",
    "PTF[3].status = 1\n",
    "Xt.append(Xt[-1] + cp4 - l4)\n",
    "rt.append(Xt[-1] / totalSupply[-1])\n",
    "sn2.append(sn2[-1] - (l4 ** 2) * p4 * (1 - p4)), mu.append(mu[-1] - p4 * l4 * PTF[2].eta) \n",
    "SCR.append(np.sqrt(sn2[-1]) * qAlphaSCR - mu[-1]), MCR.append(np.sqrt(sn2[-1]) * qAlphaMCR - mu[-1])\n",
    "policyholder.append(policyholder[-1] + l4)\n",
    "contract.append(contract[-1] - l4)\n",
    "\n",
    "\n",
    "print(SCR[-1], MCR[-1], contract[-1], Xt[-1], SP)\n",
    "\n",
    "\n"
   ]
  },
  {
   "cell_type": "markdown",
   "metadata": {},
   "source": [
    "Event:\n",
    "- Underwrite (0.02, \"wind\")\n",
    "- Change parameter SCR\n",
    "- owner withdraw as much as he can\n",
    "- settle (0.02, \"wind\") => \"wind9\" => True"
   ]
  },
  {
   "cell_type": "code",
   "execution_count": 10,
   "metadata": {},
   "outputs": [
    {
     "name": "stdout",
     "output_type": "stream",
     "text": [
      "0.06733622089998448 0.055637797027450635 0.1298840369850228 0.4406804720231199 0.07029893698502278\n",
      "2.3263478740408408\n",
      "0.06014307446037603 0.07029893698502278\n",
      "0.023045864678373888 0.010155862524646751\n",
      "0.11972817446037604 0.06014307446037603 0.13647773903904842 0.06014307446037603 0.055637797027450635\n",
      "0.056467778022698596 0.05224184106454666 0.09972817446037603 0.36853317482044007 0.050296574460376026\n"
     ]
    }
   ],
   "source": [
    "event5 = \"wind\"\n",
    "l5, p5 = 0.02, get_random_number(event5) \n",
    "r5 = (1 + eta2) * p5 * l5\n",
    "cp5 = (1 + eta) * p5 * l5\n",
    "policy5 = InsuranceContract(\n",
    "    customer=\"policyholder\",\n",
    "    event_description=b\"wind\",\n",
    "    l=l5,\n",
    "    p=p5,\n",
    "    eta=eta1 + eta2,\n",
    "    refund=r5,\n",
    "    status=0\n",
    ")\n",
    "PTF.append(policy5)\n",
    "contract.append(contract[-1] + cp5)\n",
    "Yt[\"policyholder\"].append(Yt[\"policyholder\"][-1] + eta2 * p5 * l5 / rt[-1])\n",
    "sn2.append(sn2[-1] + (l5 ** 2) * p5 * (1 - p5)), mu.append(mu[-1] + p5 * l5 * eta) \n",
    "SCR.append(np.sqrt(sn2[-1]) * qAlphaSCR - mu[-1]), MCR.append(np.sqrt(sn2[-1]) * qAlphaMCR - mu[-1])\n",
    "policyholder.append(policyholder[-1] - cp5)\n",
    "totalSupply.append(totalSupply[-1] + eta2 * p5 * l5 / rt[-1])\n",
    "rt.append(Xt[-1] / totalSupply[-1])\n",
    "\n",
    "print(SCR[-1], MCR[-1], contract[-1], rt[-1], Xt[-1])\n",
    "\n",
    "qAlphaSCR = st.norm.ppf(0.99)\n",
    "print(qAlphaSCR)\n",
    "SCR.append(np.sqrt(sn2[-1]) * qAlphaSCR - mu[-1])\n",
    "print(SCR[-1], Xt[-1])\n",
    "\n",
    "\n",
    "y5 = (Xt[-1] - SCR[-1]) / rt[-1]\n",
    "x5 = y5 * rt[-1]\n",
    "print(y5, x5)\n",
    "owner.append(owner[-1] + x5)\n",
    "contract.append(contract[-1] - x5)\n",
    "Xt.append(Xt[-1] - x5)\n",
    "Yt[\"owner\"].append(Yt[\"owner\"][-1] - y5)\n",
    "totalSupply.append(totalSupply[-1] - y5)\n",
    "print(contract[-1], Xt[-1], totalSupply[-1], SCR[-1], MCR[-1])\n",
    "\n",
    "\n",
    "PTF[4].status = 1\n",
    "Xt.append(Xt[-1] + cp5 - l5)\n",
    "rt.append(Xt[-1] / totalSupply[-1])\n",
    "sn2.append(sn2[-1] - (l5 ** 2) * p5 * (1 - p5)), mu.append(mu[-1] - p5 * l5 * PTF[2].eta) \n",
    "SCR.append(np.sqrt(sn2[-1]) * qAlphaSCR - mu[-1]), MCR.append(np.sqrt(sn2[-1]) * qAlphaMCR - mu[-1])\n",
    "policyholder.append(policyholder[-1] + l5)\n",
    "contract.append(contract[-1] - l5)\n",
    "\n",
    "print(SCR[-1], MCR[-1], contract[-1], rt[-1], Xt[-1])\n",
    "\n"
   ]
  },
  {
   "cell_type": "markdown",
   "metadata": {},
   "source": [
    "Event:\n",
    "- Smart contract liquidation\n",
    "    - Refund to policyholder   \n",
    "    - distribution of the leftovers to token holder"
   ]
  },
  {
   "cell_type": "code",
   "execution_count": 11,
   "metadata": {},
   "outputs": [
    {
     "data": {
      "text/plain": [
       "([0.4366, 0.3566, 0.366428300592977, 0.3765841631176237, 0.39397149194025166],\n",
       " [0.2, 0.1, 0.11135821242200021, 0.14258030880091277],\n",
       " [0.21,\n",
       "  0.1605684,\n",
       "  0.16020615,\n",
       "  0.10426214999999998,\n",
       "  0.20426214999999998,\n",
       "  0.16908294999999998,\n",
       "  0.24908294999999997,\n",
       "  0.23892944999999996,\n",
       "  0.25892944999999995,\n",
       "  0.26884119999999995,\n",
       "  0.27077009925883544])"
      ]
     },
     "execution_count": 11,
     "metadata": {},
     "output_type": "execute_result"
    }
   ],
   "source": [
    "Xt.append(Xt[-1] + cp5)\n",
    "policyholder.append(policyholder[-1] + r5)\n",
    "contract.append(contract[-1] - r5)\n",
    "Xt.append(Xt[-1] - r5)\n",
    "rt.append(Xt[-1] / totalSupply[-1])\n",
    "\n",
    "keys_Yt = list(Yt.keys())\n",
    "token_holdings = np.array([Yt[key_Yt][-1] for key_Yt in keys_Yt])\n",
    "xs = token_holdings * rt[-1]\n",
    "contract.append(contract[-1] - sum(xs)), Xt.append(Xt[-1] + sum(xs))\n",
    "owner.append(owner[-1] + xs[0]), SP.append(SP[-1] + xs[1]), policyholder.append(policyholder[-1] + xs[2])\n",
    "\n",
    "owner, SP, policyholder\n",
    "\n"
   ]
  },
  {
   "cell_type": "code",
   "execution_count": 21,
   "metadata": {},
   "outputs": [
    {
     "data": {
      "text/html": [
       "<div>\n",
       "<style scoped>\n",
       "    .dataframe tbody tr th:only-of-type {\n",
       "        vertical-align: middle;\n",
       "    }\n",
       "\n",
       "    .dataframe tbody tr th {\n",
       "        vertical-align: top;\n",
       "    }\n",
       "\n",
       "    .dataframe thead th {\n",
       "        text-align: right;\n",
       "    }\n",
       "</style>\n",
       "<table border=\"1\" class=\"dataframe\">\n",
       "  <thead>\n",
       "    <tr style=\"text-align: right;\">\n",
       "      <th></th>\n",
       "      <th>Contract #</th>\n",
       "      <th>Event</th>\n",
       "      <th>Probability of the event</th>\n",
       "      <th>Observed Event</th>\n",
       "      <th>Probability of the observed</th>\n",
       "    </tr>\n",
       "  </thead>\n",
       "  <tbody>\n",
       "    <tr>\n",
       "      <th>0</th>\n",
       "      <td>1</td>\n",
       "      <td>rain</td>\n",
       "      <td>0.7164</td>\n",
       "      <td>rain1</td>\n",
       "      <td>0.4519</td>\n",
       "    </tr>\n",
       "    <tr>\n",
       "      <th>1</th>\n",
       "      <td>2</td>\n",
       "      <td>hail</td>\n",
       "      <td>0.0315</td>\n",
       "      <td>hail1</td>\n",
       "      <td>0.4496</td>\n",
       "    </tr>\n",
       "    <tr>\n",
       "      <th>2</th>\n",
       "      <td>3</td>\n",
       "      <td>snow</td>\n",
       "      <td>0.5328</td>\n",
       "      <td>snow2</td>\n",
       "      <td>0.2058</td>\n",
       "    </tr>\n",
       "    <tr>\n",
       "      <th>3</th>\n",
       "      <td>4</td>\n",
       "      <td>sun</td>\n",
       "      <td>0.4188</td>\n",
       "      <td>sun1</td>\n",
       "      <td>0.0128</td>\n",
       "    </tr>\n",
       "    <tr>\n",
       "      <th>4</th>\n",
       "      <td>5</td>\n",
       "      <td>wind</td>\n",
       "      <td>0.4835</td>\n",
       "      <td>wind9</td>\n",
       "      <td>0.1940</td>\n",
       "    </tr>\n",
       "  </tbody>\n",
       "</table>\n",
       "</div>"
      ],
      "text/plain": [
       "   Contract # Event  Probability of the event Observed Event  \\\n",
       "0           1  rain                    0.7164          rain1   \n",
       "1           2  hail                    0.0315          hail1   \n",
       "2           3  snow                    0.5328          snow2   \n",
       "3           4   sun                    0.4188           sun1   \n",
       "4           5  wind                    0.4835          wind9   \n",
       "\n",
       "   Probability of the observed  \n",
       "0                       0.4519  \n",
       "1                       0.4496  \n",
       "2                       0.2058  \n",
       "3                       0.0128  \n",
       "4                       0.1940  "
      ]
     },
     "execution_count": 21,
     "metadata": {},
     "output_type": "execute_result"
    }
   ],
   "source": [
    "pd.DataFrame({\n",
    "    \"Contract #\" : [1,2,3,4,5],\n",
    "    \"Event\" : [\"rain\", \"hail\", \"snow\", \"sun\", \"wind\"],\n",
    "    \"Probability of the event\" : [get_random_number(\"rain\"), \n",
    "                  get_random_number(\"hail\"), \n",
    "                  get_random_number(\"snow\"), \n",
    "                  get_random_number(\"sun\"), \n",
    "                  get_random_number(\"wind\")],\n",
    "    \"Observed Event\" : [\"rain1\", \"hail1\", \"snow2\", \"sun1\", \"wind9\"],\n",
    "    \"Probability of the observed\" : [get_random_number(\"rain1\"), \n",
    "                  get_random_number(\"hail1\"), \n",
    "                  get_random_number(\"snow2\"), \n",
    "                  get_random_number(\"sun1\"), \n",
    "                  get_random_number(\"wind9\")]}\n",
    "                  )    "
   ]
  },
  {
   "cell_type": "code",
   "execution_count": null,
   "metadata": {},
   "outputs": [],
   "source": []
  }
 ],
 "metadata": {
  "kernelspec": {
   "display_name": "base",
   "language": "python",
   "name": "python3"
  },
  "language_info": {
   "codemirror_mode": {
    "name": "ipython",
    "version": 3
   },
   "file_extension": ".py",
   "mimetype": "text/x-python",
   "name": "python",
   "nbconvert_exporter": "python",
   "pygments_lexer": "ipython3",
   "version": "3.9.18"
  }
 },
 "nbformat": 4,
 "nbformat_minor": 2
}
